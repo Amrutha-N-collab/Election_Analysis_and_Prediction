{
 "cells": [
  {
   "cell_type": "markdown",
   "id": "ac987fd6",
   "metadata": {},
   "source": [
    "##Voters choose the congress party due to the guaranteed benefits provided by the congress government."
   ]
  },
  {
   "cell_type": "code",
   "execution_count": 1,
   "id": "9357f981",
   "metadata": {},
   "outputs": [
    {
     "name": "stdout",
     "output_type": "stream",
     "text": [
      "C:\\Users\\vikra\\Desktop\\EP_Project\\Survey\n"
     ]
    }
   ],
   "source": [
    "cd \"C:\\Users\\vikra\\Desktop\\EP_Project\\Survey\""
   ]
  },
  {
   "cell_type": "code",
   "execution_count": 2,
   "id": "4a532d42",
   "metadata": {},
   "outputs": [],
   "source": [
    "# Import necessary libraries\n",
    "import pandas as pd\n",
    "from sklearn.metrics import accuracy_score\n",
    "from collections import Counter\n",
    "import matplotlib.pyplot as plt"
   ]
  },
  {
   "cell_type": "code",
   "execution_count": 3,
   "id": "c41e5acf",
   "metadata": {},
   "outputs": [],
   "source": [
    "# Create a DataFrame with your data\n",
    "data = pd.read_excel(\"EP_data.xlsx\", sheet_name=\"Train_data\")\n",
    "data_test=pd.read_excel(\"EP_data.xlsx\", sheet_name=\"Test_data1\")"
   ]
  },
  {
   "cell_type": "code",
   "execution_count": 4,
   "id": "a9a7eb72",
   "metadata": {},
   "outputs": [],
   "source": [
    "# Define features and target\n",
    "features_train = data[['Gruha lakshmi0','Gruha Lakshmi1','Shakthi0','Shakti1','Gruha jyothi0','Gruha jyothi1','Annabhagya0','Annabhagya1','Yuva nidhi0','Yuva nidhi1','Vote based on Guarantee1','Last Vote1']]\n",
    "target_train = data['Vote']\n",
    "data.shape\n",
    "features_test=data_test[['Gruha lakshmi0','Gruha Lakshmi1','Shakthi0','Shakti1','Gruha jyothi0','Gruha jyothi1','Annabhagya0','Annabhagya1','Yuva nidhi0','Yuva nidhi1','Vote based on Guarantee1','Last Vote1']]\n",
    "target_test=data_test['Vote']"
   ]
  },
  {
   "cell_type": "markdown",
   "id": "170a5641",
   "metadata": {},
   "source": [
    "#Logistic Regression model"
   ]
  },
  {
   "cell_type": "code",
   "execution_count": 5,
   "id": "dc5d4dbe",
   "metadata": {},
   "outputs": [
    {
     "name": "stdout",
     "output_type": "stream",
     "text": [
      "['Congress' 'BJP / JDS' 'BJP / JDS' 'Congress' 'Congress' 'Congress'\n",
      " 'Congress' 'Congress' 'Congress' 'Congress' 'Congress' 'BJP / JDS'\n",
      " 'Congress' 'Congress' 'Congress' 'Congress' 'Congress' 'Congress'\n",
      " 'Congress' 'Congress' 'Congress' 'Congress' 'BJP / JDS' 'Congress'\n",
      " 'Congress' 'Congress' 'Congress' 'Congress' 'Congress' 'Congress'\n",
      " 'Congress' 'Congress' 'Congress' 'Congress' 'Congress' 'Congress'\n",
      " 'Congress' 'Congress' 'BJP / JDS' 'Congress' 'Congress' 'Congress'\n",
      " 'Congress' 'Congress' 'Congress' 'Congress' 'Congress' 'Congress'\n",
      " 'Congress' 'Congress' 'Congress' 'Congress' 'Congress' 'Congress'\n",
      " 'Congress' 'Congress' 'Congress' 'Congress' 'Congress' 'Congress'\n",
      " 'Congress' 'Congress' 'Congress' 'Congress' 'Congress' 'Congress'\n",
      " 'Congress' 'BJP / JDS' 'Congress' 'Congress' 'Congress' 'Congress'\n",
      " 'BJP / JDS' 'BJP / JDS' 'Congress' 'Congress' 'Congress' 'Congress'\n",
      " 'Congress' 'Congress' 'Congress' 'Congress' 'BJP / JDS' 'Other'\n",
      " 'Congress' 'Congress']\n",
      "---->The accuracy of the Logistic Regression model is 63.95348837209303%.\n"
     ]
    },
    {
     "data": {
      "text/plain": [
       "Counter({'Congress': 76, 'BJP / JDS': 9, 'Other': 1})"
      ]
     },
     "execution_count": 5,
     "metadata": {},
     "output_type": "execute_result"
    }
   ],
   "source": [
    "# Initialize the Logistic Regression model\n",
    "from sklearn.linear_model import LogisticRegression\n",
    "model = LogisticRegression()\n",
    "# Train the model\n",
    "all_guarantee_LR=model.fit(features_train, target_train)\n",
    "# Make predictions\n",
    "predictions = model.predict(features_test)\n",
    "print(predictions )\n",
    "# Calculate the accuracy of the model\n",
    "accuracy = accuracy_score(target_test, predictions)\n",
    "\n",
    "# Print the accuracy\n",
    "print(f\"---->The accuracy of the Logistic Regression model is {accuracy * 100}%.\")\n",
    "Counter(predictions)"
   ]
  },
  {
   "cell_type": "code",
   "execution_count": 6,
   "id": "0d62fc87",
   "metadata": {},
   "outputs": [
    {
     "name": "stdout",
     "output_type": "stream",
     "text": [
      "Accuracy of DecisionTree classification is 79.06976744186046%.\n"
     ]
    },
    {
     "data": {
      "text/plain": [
       "Counter({'Congress': 47, 'BJP / JDS': 37, 'Other': 2})"
      ]
     },
     "execution_count": 6,
     "metadata": {},
     "output_type": "execute_result"
    }
   ],
   "source": [
    "from sklearn.tree import DecisionTreeClassifier\n",
    "# Create a Decision Tree Classifier object\n",
    "dtree = DecisionTreeClassifier()\n",
    "\n",
    "# Train the Decision Tree Classifier\n",
    "all_guarantee_tree=dtree.fit(features_train, target_train)\n",
    "\n",
    "# Predict the response for the test dataset\n",
    "target_pred = dtree.predict(features_test)\n",
    "# Calculate the accuracy of the model\n",
    "accuracy = accuracy_score(target_test, target_pred)\n",
    "\n",
    "# Print the accuracy\n",
    "print(f\"Accuracy of DecisionTree classification is {accuracy * 100}%.\")\n",
    "Counter(target_pred)"
   ]
  },
  {
   "cell_type": "code",
   "execution_count": 7,
   "id": "88120895",
   "metadata": {},
   "outputs": [
    {
     "name": "stdout",
     "output_type": "stream",
     "text": [
      "['BJP / JDS' 'BJP / JDS' 'Congress' 'Congress' 'Congress' 'Congress'\n",
      " 'Congress' 'Congress' 'Congress' 'BJP / JDS' 'Congress' 'Congress'\n",
      " 'Congress' 'Congress' 'Congress' 'BJP / JDS' 'Congress' 'Congress'\n",
      " 'Congress' 'Congress' 'Congress' 'Congress' 'BJP / JDS' 'Congress'\n",
      " 'Congress' 'BJP / JDS' 'BJP / JDS' 'Congress' 'BJP / JDS' 'Congress'\n",
      " 'Congress' 'Other' 'BJP / JDS' 'Congress' 'Congress' 'Congress'\n",
      " 'Congress' 'Congress' 'Congress' 'Congress' 'BJP / JDS' 'Congress'\n",
      " 'Congress' 'BJP / JDS' 'BJP / JDS' 'Other' 'BJP / JDS' 'BJP / JDS'\n",
      " 'Congress' 'Congress' 'BJP / JDS' 'Congress' 'Congress' 'Congress'\n",
      " 'Congress' 'Congress' 'Congress' 'Congress' 'Congress' 'Congress'\n",
      " 'Congress' 'BJP / JDS' 'BJP / JDS' 'Congress' 'BJP / JDS' 'Congress'\n",
      " 'Congress' 'BJP / JDS' 'Congress' 'Congress' 'BJP / JDS' 'Congress'\n",
      " 'Congress' 'Congress' 'Congress' 'BJP / JDS' 'BJP / JDS' 'Congress'\n",
      " 'Congress' 'Congress' 'Congress' 'Congress' 'BJP / JDS' 'Other'\n",
      " 'BJP / JDS' 'BJP / JDS']\n",
      "-------->Accuracy of RandomForest is 79.06976744186046%.\n"
     ]
    },
    {
     "data": {
      "text/plain": [
       "Counter({'Congress': 58, 'BJP / JDS': 25, 'Other': 3})"
      ]
     },
     "execution_count": 7,
     "metadata": {},
     "output_type": "execute_result"
    }
   ],
   "source": [
    "from sklearn.ensemble import RandomForestClassifier\n",
    "# Create a Random Forest Classifier object\n",
    "clf = RandomForestClassifier(n_estimators=100)\n",
    "\n",
    "# Train the Random Forest Classifier\n",
    "all_guarantee = clf.fit(features_train,target_train)\n",
    "\n",
    "# Predict the response for the test dataset\n",
    "target_pred = clf.predict(features_test)\n",
    "print(target_pred)\n",
    "# Calculate the accuracy of the model\n",
    "accuracy = accuracy_score(target_test, target_pred)\n",
    "\n",
    "# Print the accuracy\n",
    "print(f\"-------->Accuracy of RandomForest is {accuracy * 100}%.\")\n",
    "Counter(target_pred)"
   ]
  },
  {
   "cell_type": "code",
   "execution_count": 8,
   "id": "29e6bcf2",
   "metadata": {},
   "outputs": [],
   "source": [
    "import pickle\n",
    "pickle_out=open(\"all_guarantee_LR.pkl\",\"wb\")\n",
    "pickle.dump(all_guarantee_LR,pickle_out)"
   ]
  },
  {
   "cell_type": "code",
   "execution_count": null,
   "id": "423a6483",
   "metadata": {},
   "outputs": [],
   "source": [
    "pickle.close()"
   ]
  },
  {
   "cell_type": "code",
   "execution_count": null,
   "id": "89fcfc98",
   "metadata": {},
   "outputs": [],
   "source": []
  }
 ],
 "metadata": {
  "kernelspec": {
   "display_name": "Python 3 (ipykernel)",
   "language": "python",
   "name": "python3"
  },
  "language_info": {
   "codemirror_mode": {
    "name": "ipython",
    "version": 3
   },
   "file_extension": ".py",
   "mimetype": "text/x-python",
   "name": "python",
   "nbconvert_exporter": "python",
   "pygments_lexer": "ipython3",
   "version": "3.11.5"
  }
 },
 "nbformat": 4,
 "nbformat_minor": 5
}
